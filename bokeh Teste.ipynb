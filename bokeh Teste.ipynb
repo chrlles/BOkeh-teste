{
 "cells": [
  {
   "cell_type": "code",
   "execution_count": 1,
   "id": "549dd345",
   "metadata": {},
   "outputs": [],
   "source": [
    "import numpy as np\n",
    "from bokeh.plotting import figure, show"
   ]
  },
  {
   "cell_type": "markdown",
   "id": "db2a8c78",
   "metadata": {},
   "source": [
    "- gráfico 1"
   ]
  },
  {
   "cell_type": "code",
   "execution_count": 20,
   "id": "1fe5594b",
   "metadata": {},
   "outputs": [],
   "source": [
    "y = np.cumsum(np.random.randn(400, 1))"
   ]
  },
  {
   "cell_type": "code",
   "execution_count": 21,
   "id": "b28a003e",
   "metadata": {},
   "outputs": [],
   "source": [
    "x = np.linspace(0, 1, 400)"
   ]
  },
  {
   "cell_type": "code",
   "execution_count": 27,
   "id": "9f9d7367",
   "metadata": {},
   "outputs": [],
   "source": [
    "p = figure(title='Gráfico Bokeh Teste', x_axis_label='x', y_axis_label='y')\n",
    "p.line(x, y, legend_label=\"Temp\", line_width=2, color='gray')\n",
    "show(p)"
   ]
  },
  {
   "cell_type": "markdown",
   "id": "1fec7cd5",
   "metadata": {},
   "source": [
    "- gráfico 2"
   ]
  },
  {
   "cell_type": "code",
   "execution_count": 53,
   "id": "ba5b3027",
   "metadata": {},
   "outputs": [],
   "source": [
    "X = np.linspace(0, 1, 200)"
   ]
  },
  {
   "cell_type": "code",
   "execution_count": 54,
   "id": "fb379884",
   "metadata": {},
   "outputs": [],
   "source": [
    "y1 = np.cumsum(np.random.randn(200, 1))"
   ]
  },
  {
   "cell_type": "code",
   "execution_count": 55,
   "id": "d794d24e",
   "metadata": {},
   "outputs": [],
   "source": [
    "p = figure(x_axis_label='X', y_axis_label='y')\n",
    "p.line(X, y1, legend_label='gra', line_width=2, color='purple')\n",
    "show(p)"
   ]
  },
  {
   "cell_type": "markdown",
   "id": "7557adc5",
   "metadata": {},
   "source": [
    "- gráfico 3 - múltiplas linhas"
   ]
  },
  {
   "cell_type": "code",
   "execution_count": 56,
   "id": "2ecf6c90",
   "metadata": {},
   "outputs": [],
   "source": [
    "x1 = np.linspace(0, 1, 200)"
   ]
  },
  {
   "cell_type": "code",
   "execution_count": 57,
   "id": "485068f2",
   "metadata": {},
   "outputs": [],
   "source": [
    "y1 = np.cumsum(np.random.randn(200, 1))\n",
    "y2 = np.cumsum(np.random.randn(200, 1))"
   ]
  },
  {
   "cell_type": "code",
   "execution_count": 63,
   "id": "94f6b27f",
   "metadata": {},
   "outputs": [],
   "source": [
    "p = figure(x_axis_label='x', y_axis_label='y')\n",
    "p.line(x1, y2, legend_label='linha_1', line_width=2, color='#38184C')\n",
    "p.line(x1, y3, legend_label='linha_2', line_width=2, color='#F23005')\n",
    "show(p)"
   ]
  },
  {
   "cell_type": "code",
   "execution_count": null,
   "id": "e0455b9c",
   "metadata": {},
   "outputs": [],
   "source": []
  }
 ],
 "metadata": {
  "kernelspec": {
   "display_name": "Python 3",
   "language": "python",
   "name": "python3"
  },
  "language_info": {
   "codemirror_mode": {
    "name": "ipython",
    "version": 3
   },
   "file_extension": ".py",
   "mimetype": "text/x-python",
   "name": "python",
   "nbconvert_exporter": "python",
   "pygments_lexer": "ipython3",
   "version": "3.8.8"
  }
 },
 "nbformat": 4,
 "nbformat_minor": 5
}
